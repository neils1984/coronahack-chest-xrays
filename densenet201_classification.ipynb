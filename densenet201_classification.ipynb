{
 "metadata": {
  "language_info": {
   "codemirror_mode": {
    "name": "ipython",
    "version": 3
   },
   "file_extension": ".py",
   "mimetype": "text/x-python",
   "name": "python",
   "nbconvert_exporter": "python",
   "pygments_lexer": "ipython3",
   "version": "3.9.4"
  },
  "orig_nbformat": 2,
  "kernelspec": {
   "name": "python394jvsc74a57bd057d528127292075f36a3431909a2c35caed0c3972b04e5bf650d9a48edc084cf",
   "display_name": "Python 3.9.4 64-bit"
  },
  "metadata": {
   "interpreter": {
    "hash": "57d528127292075f36a3431909a2c35caed0c3972b04e5bf650d9a48edc084cf"
   }
  }
 },
 "nbformat": 4,
 "nbformat_minor": 2,
 "cells": [
  {
   "cell_type": "code",
   "execution_count": 17,
   "metadata": {},
   "outputs": [],
   "source": [
    "import pandas as pd\n",
    "from PIL import Image, ImageOps\n",
    "import matplotlib.pyplot as plt\n",
    "import os\n",
    "from tensorflow.keras.preprocessing.image import ImageDataGenerator\n",
    "from tensorflow.keras.applications.densenet import DenseNet201, preprocess_input\n",
    "from sklearn.utils.class_weight import compute_class_weight"
   ]
  },
  {
   "cell_type": "code",
   "execution_count": 18,
   "metadata": {},
   "outputs": [],
   "source": [
    "metadata = pd.read_csv('data/Chest_xray_Corona_Metadata.csv').drop('Unnamed: 0', axis=1)"
   ]
  },
  {
   "cell_type": "code",
   "execution_count": 19,
   "metadata": {},
   "outputs": [
    {
     "output_type": "execute_result",
     "data": {
      "text/plain": [
       "    X_ray_image_name   Label Dataset_type Label_2_Virus_category  \\\n",
       "0  IM-0128-0001.jpeg  Normal        TRAIN                    NaN   \n",
       "1  IM-0127-0001.jpeg  Normal        TRAIN                    NaN   \n",
       "2  IM-0125-0001.jpeg  Normal        TRAIN                    NaN   \n",
       "3  IM-0122-0001.jpeg  Normal        TRAIN                    NaN   \n",
       "4  IM-0119-0001.jpeg  Normal        TRAIN                    NaN   \n",
       "\n",
       "  Label_1_Virus_category  \n",
       "0                    NaN  \n",
       "1                    NaN  \n",
       "2                    NaN  \n",
       "3                    NaN  \n",
       "4                    NaN  "
      ],
      "text/html": "<div>\n<style scoped>\n    .dataframe tbody tr th:only-of-type {\n        vertical-align: middle;\n    }\n\n    .dataframe tbody tr th {\n        vertical-align: top;\n    }\n\n    .dataframe thead th {\n        text-align: right;\n    }\n</style>\n<table border=\"1\" class=\"dataframe\">\n  <thead>\n    <tr style=\"text-align: right;\">\n      <th></th>\n      <th>X_ray_image_name</th>\n      <th>Label</th>\n      <th>Dataset_type</th>\n      <th>Label_2_Virus_category</th>\n      <th>Label_1_Virus_category</th>\n    </tr>\n  </thead>\n  <tbody>\n    <tr>\n      <th>0</th>\n      <td>IM-0128-0001.jpeg</td>\n      <td>Normal</td>\n      <td>TRAIN</td>\n      <td>NaN</td>\n      <td>NaN</td>\n    </tr>\n    <tr>\n      <th>1</th>\n      <td>IM-0127-0001.jpeg</td>\n      <td>Normal</td>\n      <td>TRAIN</td>\n      <td>NaN</td>\n      <td>NaN</td>\n    </tr>\n    <tr>\n      <th>2</th>\n      <td>IM-0125-0001.jpeg</td>\n      <td>Normal</td>\n      <td>TRAIN</td>\n      <td>NaN</td>\n      <td>NaN</td>\n    </tr>\n    <tr>\n      <th>3</th>\n      <td>IM-0122-0001.jpeg</td>\n      <td>Normal</td>\n      <td>TRAIN</td>\n      <td>NaN</td>\n      <td>NaN</td>\n    </tr>\n    <tr>\n      <th>4</th>\n      <td>IM-0119-0001.jpeg</td>\n      <td>Normal</td>\n      <td>TRAIN</td>\n      <td>NaN</td>\n      <td>NaN</td>\n    </tr>\n  </tbody>\n</table>\n</div>"
     },
     "metadata": {},
     "execution_count": 19
    }
   ],
   "source": [
    "metadata.head()"
   ]
  },
  {
   "cell_type": "code",
   "execution_count": 20,
   "metadata": {},
   "outputs": [
    {
     "output_type": "execute_result",
     "data": {
      "text/plain": [
       "[('Normal', nan),\n",
       " ('Pnemonia', 'Virus'),\n",
       " ('Pnemonia', 'bacteria'),\n",
       " ('Pnemonia', 'Stress-Smoking')]"
      ]
     },
     "metadata": {},
     "execution_count": 20
    }
   ],
   "source": [
    "combi = list(set(zip(metadata.Label.tolist(), metadata.Label_1_Virus_category.tolist())))\n",
    "combi"
   ]
  },
  {
   "cell_type": "code",
   "execution_count": 21,
   "metadata": {},
   "outputs": [
    {
     "output_type": "error",
     "ename": "FileNotFoundError",
     "evalue": "[Errno 2] No such file or directory: 'data/train/IM-0128-0001.jpeg'",
     "traceback": [
      "\u001b[1;31m---------------------------------------------------------------------------\u001b[0m",
      "\u001b[1;31mFileNotFoundError\u001b[0m                         Traceback (most recent call last)",
      "\u001b[1;32m<ipython-input-21-c0f8f9b913ba>\u001b[0m in \u001b[0;36m<module>\u001b[1;34m\u001b[0m\n\u001b[0;32m     10\u001b[0m         \u001b[1;33m.\u001b[0m\u001b[0mX_ray_image_name\u001b[0m\u001b[1;33m\u001b[0m\u001b[1;33m\u001b[0m\u001b[0m\n\u001b[0;32m     11\u001b[0m     )\n\u001b[1;32m---> 12\u001b[1;33m     \u001b[0mimg\u001b[0m \u001b[1;33m=\u001b[0m \u001b[0mImage\u001b[0m\u001b[1;33m.\u001b[0m\u001b[0mopen\u001b[0m\u001b[1;33m(\u001b[0m\u001b[1;34mf'data/train/{filename}'\u001b[0m\u001b[1;33m)\u001b[0m\u001b[1;33m\u001b[0m\u001b[1;33m\u001b[0m\u001b[0m\n\u001b[0m\u001b[0;32m     13\u001b[0m     \u001b[0mimg\u001b[0m\u001b[1;33m.\u001b[0m\u001b[0mshow\u001b[0m\u001b[1;33m(\u001b[0m\u001b[1;33m)\u001b[0m\u001b[1;33m\u001b[0m\u001b[1;33m\u001b[0m\u001b[0m\n\u001b[0;32m     14\u001b[0m     \u001b[0maxs\u001b[0m\u001b[1;33m[\u001b[0m\u001b[0mi\u001b[0m\u001b[1;33m]\u001b[0m\u001b[1;33m.\u001b[0m\u001b[0mimshow\u001b[0m\u001b[1;33m(\u001b[0m\u001b[0mimg\u001b[0m\u001b[1;33m)\u001b[0m\u001b[1;33m\u001b[0m\u001b[1;33m\u001b[0m\u001b[0m\n",
      "\u001b[1;32m~\\AppData\\Local\\Programs\\Python\\Python39\\lib\\site-packages\\PIL\\Image.py\u001b[0m in \u001b[0;36mopen\u001b[1;34m(fp, mode, formats)\u001b[0m\n\u001b[0;32m   2910\u001b[0m \u001b[1;33m\u001b[0m\u001b[0m\n\u001b[0;32m   2911\u001b[0m     \u001b[1;32mif\u001b[0m \u001b[0mfilename\u001b[0m\u001b[1;33m:\u001b[0m\u001b[1;33m\u001b[0m\u001b[1;33m\u001b[0m\u001b[0m\n\u001b[1;32m-> 2912\u001b[1;33m         \u001b[0mfp\u001b[0m \u001b[1;33m=\u001b[0m \u001b[0mbuiltins\u001b[0m\u001b[1;33m.\u001b[0m\u001b[0mopen\u001b[0m\u001b[1;33m(\u001b[0m\u001b[0mfilename\u001b[0m\u001b[1;33m,\u001b[0m \u001b[1;34m\"rb\"\u001b[0m\u001b[1;33m)\u001b[0m\u001b[1;33m\u001b[0m\u001b[1;33m\u001b[0m\u001b[0m\n\u001b[0m\u001b[0;32m   2913\u001b[0m         \u001b[0mexclusive_fp\u001b[0m \u001b[1;33m=\u001b[0m \u001b[1;32mTrue\u001b[0m\u001b[1;33m\u001b[0m\u001b[1;33m\u001b[0m\u001b[0m\n\u001b[0;32m   2914\u001b[0m \u001b[1;33m\u001b[0m\u001b[0m\n",
      "\u001b[1;31mFileNotFoundError\u001b[0m: [Errno 2] No such file or directory: 'data/train/IM-0128-0001.jpeg'"
     ]
    }
   ],
   "source": [
    "fig, axs = plt.subplots(2, 2, figsize=(8,8))\n",
    "axs = axs.reshape(-1)\n",
    "i = 0\n",
    "for c in combi:\n",
    "    label, cat = c[0], c[1]\n",
    "    filename = (\n",
    "        metadata[(metadata['Label'] == label) & ((metadata['Label_1_Virus_category'] == cat) | (metadata['Label_1_Virus_category']\n",
    "        .isnull()))]\n",
    "        .iloc[0]\n",
    "        .X_ray_image_name\n",
    "    )\n",
    "    img = Image.open(f'data/train/{filename}')\n",
    "    img.show()\n",
    "    axs[i].imshow(img)\n",
    "    axs[i].title.set_text(f'{c[0]} - {c[1]}')\n",
    "    i += 1\n",
    "\n",
    "plt.show()"
   ]
  },
  {
   "cell_type": "code",
   "execution_count": null,
   "metadata": {},
   "outputs": [],
   "source": [
    "# move images\n",
    "\n",
    "image_root_path = 'data/'\n",
    "folder_map = {'Normal': 'class_0/', 'Pnemonia': 'class_1/'}\n",
    "for row in metadata.itertuples():\n",
    "    filename = row[1]\n",
    "    folder = folder_map[row[2]]\n",
    "    train_test = row[3].lower() +'/'\n",
    "    current_location = f'{image_root_path}{train_test}{filename}'\n",
    "    new_location = f'{image_root_path}{train_test}{folder}{filename}'\n",
    "    os.rename(current_location, new_location)"
   ]
  },
  {
   "cell_type": "code",
   "execution_count": 22,
   "metadata": {},
   "outputs": [],
   "source": [
    "train_data_gen = ImageDataGenerator(\n",
    "    preprocessing_function=preprocess_input,\n",
    "    rotation_range=0.2,\n",
    "    height_shift_range=0.1,\n",
    "    width_shift_range=0.1,\n",
    "    zoom_range=0.05,\n",
    "    brightness_range=(-5, 5),\n",
    "    validation_split=0.2,\n",
    "    horizontal_flip=True,\n",
    "    fill_mode='nearest'\n",
    ")"
   ]
  },
  {
   "cell_type": "code",
   "execution_count": 23,
   "metadata": {},
   "outputs": [],
   "source": [
    "# Calculate class weights to balance data\n",
    "\n",
    "unique_classes = metadata.Label.unique()\n",
    "all_rows = metadata.Label.to_numpy()\n",
    "weights = compute_class_weight('balanced', classes=unique_classes, y=all_rows)"
   ]
  },
  {
   "cell_type": "code",
   "execution_count": 28,
   "metadata": {},
   "outputs": [
    {
     "output_type": "stream",
     "name": "stdout",
     "text": [
      "Found 4230 images belonging to 2 classes.\nFound 1056 images belonging to 2 classes.\nFound 624 images belonging to 2 classes.\n"
     ]
    }
   ],
   "source": [
    "train_images = train_data_gen.flow_from_directory(\n",
    "    image_root_path + 'train',\n",
    "    class_mode='binary',\n",
    "    subset='training'\n",
    ")\n",
    "\n",
    "validate_images = train_data_gen.flow_from_directory(\n",
    "    image_root_path + 'train',\n",
    "    class_mode='binary',\n",
    "    subset='validation'\n",
    ")\n",
    "\n",
    "test_images = train_data_gen.flow_from_directory(\n",
    "    image_root_path + 'test',\n",
    "    class_mode='binary'\n",
    ")"
   ]
  },
  {
   "cell_type": "code",
   "execution_count": 27,
   "metadata": {},
   "outputs": [
    {
     "output_type": "stream",
     "name": "stdout",
     "text": [
      "Found 1056 images belonging to 2 classes.\n"
     ]
    }
   ],
   "source": []
  },
  {
   "cell_type": "code",
   "execution_count": null,
   "metadata": {},
   "outputs": [],
   "source": []
  }
 ]
}