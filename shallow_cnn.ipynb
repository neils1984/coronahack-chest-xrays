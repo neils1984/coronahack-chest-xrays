{
 "cells": [
  {
   "cell_type": "code",
   "execution_count": 125,
   "metadata": {},
   "outputs": [],
   "source": [
    "import numpy as np\n",
    "import pandas as pd\n",
    "from PIL import Image, ImageOps\n",
    "import matplotlib.pyplot as plt\n",
    "import os\n",
    "from tensorflow.keras.preprocessing import image_dataset_from_directory\n",
    "from tensorflow.keras.models import Sequential\n",
    "from tensorflow.keras.layers import Conv2D, BatchNormalization, InputLayer, \\\n",
    "    Flatten, Dense, Dropout, GlobalAveragePooling2D, MaxPooling2D, Lambda\n",
    "from tensorflow.keras.callbacks import ModelCheckpoint, EarlyStopping\n",
    "from tensorflow.keras.initializers import Constant\n",
    "import tensorflow as tf\n",
    "from tensorflow.keras import layers\n",
    "from sklearn.utils.class_weight import compute_class_weight\n",
    "import matplotlib.pyplot as plt\n",
    "from sklearn.metrics import f1_score, accuracy_score, classification_report\n",
    "from tensorflow.image import rgb_to_grayscale, resize\n",
    "import tempfile"
   ]
  },
  {
   "cell_type": "code",
   "execution_count": 78,
   "metadata": {},
   "outputs": [],
   "source": [
    "def prepare_data(ds, shuffle=False, augment=False):\n",
    "    # Resize and rescale all datasets\n",
    "    \n",
    "    # ds = ds.map(lambda x, y: (rgb_to_grayscale(x), y))\n",
    "    \n",
    "#     ds = ds.map(lambda x, y: (resize_and_rescale(x), y), \n",
    "#               num_parallel_calls=AUTOTUNE)\n",
    "\n",
    "    if shuffle:\n",
    "        ds = ds.shuffle(1000)\n",
    "\n",
    "    # Use data augmentation only on the training set\n",
    "    if augment:\n",
    "        ds = ds.map(lambda x, y: (data_augmentation(x, training=True), y), \n",
    "                num_parallel_calls=AUTOTUNE)\n",
    "\n",
    "    # Use buffered prefecting on all datasets\n",
    "    return ds.prefetch(buffer_size=AUTOTUNE)"
   ]
  },
  {
   "cell_type": "code",
   "execution_count": 79,
   "metadata": {},
   "outputs": [],
   "source": [
    "resize_and_rescale = tf.keras.Sequential([\n",
    "  layers.experimental.preprocessing.Resizing(256, 256),\n",
    "  layers.experimental.preprocessing.Rescaling(1./255)\n",
    "])"
   ]
  },
  {
   "cell_type": "code",
   "execution_count": 80,
   "metadata": {},
   "outputs": [],
   "source": [
    "data_augmentation = tf.keras.Sequential([\n",
    "layers.experimental.preprocessing.RandomFlip(\"horizontal_and_vertical\"),\n",
    "layers.experimental.preprocessing.RandomRotation(0.2),\n",
    "layers.experimental.preprocessing.RandomHeight(0.1),\n",
    "layers.experimental.preprocessing.RandomWidth(0.1),\n",
    "layers.experimental.preprocessing.RandomZoom(0.1),\n",
    "])"
   ]
  },
  {
   "cell_type": "code",
   "execution_count": 81,
   "metadata": {},
   "outputs": [
    {
     "data": {
      "text/html": [
       "<div>\n",
       "<style scoped>\n",
       "    .dataframe tbody tr th:only-of-type {\n",
       "        vertical-align: middle;\n",
       "    }\n",
       "\n",
       "    .dataframe tbody tr th {\n",
       "        vertical-align: top;\n",
       "    }\n",
       "\n",
       "    .dataframe thead th {\n",
       "        text-align: right;\n",
       "    }\n",
       "</style>\n",
       "<table border=\"1\" class=\"dataframe\">\n",
       "  <thead>\n",
       "    <tr style=\"text-align: right;\">\n",
       "      <th></th>\n",
       "      <th>X_ray_image_name</th>\n",
       "      <th>Label</th>\n",
       "      <th>Dataset_type</th>\n",
       "      <th>Label_2_Virus_category</th>\n",
       "      <th>Label_1_Virus_category</th>\n",
       "    </tr>\n",
       "  </thead>\n",
       "  <tbody>\n",
       "    <tr>\n",
       "      <th>0</th>\n",
       "      <td>IM-0128-0001.jpeg</td>\n",
       "      <td>Normal</td>\n",
       "      <td>TRAIN</td>\n",
       "      <td>NaN</td>\n",
       "      <td>NaN</td>\n",
       "    </tr>\n",
       "    <tr>\n",
       "      <th>1</th>\n",
       "      <td>IM-0127-0001.jpeg</td>\n",
       "      <td>Normal</td>\n",
       "      <td>TRAIN</td>\n",
       "      <td>NaN</td>\n",
       "      <td>NaN</td>\n",
       "    </tr>\n",
       "    <tr>\n",
       "      <th>2</th>\n",
       "      <td>IM-0125-0001.jpeg</td>\n",
       "      <td>Normal</td>\n",
       "      <td>TRAIN</td>\n",
       "      <td>NaN</td>\n",
       "      <td>NaN</td>\n",
       "    </tr>\n",
       "    <tr>\n",
       "      <th>3</th>\n",
       "      <td>IM-0122-0001.jpeg</td>\n",
       "      <td>Normal</td>\n",
       "      <td>TRAIN</td>\n",
       "      <td>NaN</td>\n",
       "      <td>NaN</td>\n",
       "    </tr>\n",
       "    <tr>\n",
       "      <th>4</th>\n",
       "      <td>IM-0119-0001.jpeg</td>\n",
       "      <td>Normal</td>\n",
       "      <td>TRAIN</td>\n",
       "      <td>NaN</td>\n",
       "      <td>NaN</td>\n",
       "    </tr>\n",
       "  </tbody>\n",
       "</table>\n",
       "</div>"
      ],
      "text/plain": [
       "    X_ray_image_name   Label Dataset_type Label_2_Virus_category  \\\n",
       "0  IM-0128-0001.jpeg  Normal        TRAIN                    NaN   \n",
       "1  IM-0127-0001.jpeg  Normal        TRAIN                    NaN   \n",
       "2  IM-0125-0001.jpeg  Normal        TRAIN                    NaN   \n",
       "3  IM-0122-0001.jpeg  Normal        TRAIN                    NaN   \n",
       "4  IM-0119-0001.jpeg  Normal        TRAIN                    NaN   \n",
       "\n",
       "  Label_1_Virus_category  \n",
       "0                    NaN  \n",
       "1                    NaN  \n",
       "2                    NaN  \n",
       "3                    NaN  \n",
       "4                    NaN  "
      ]
     },
     "execution_count": 81,
     "metadata": {},
     "output_type": "execute_result"
    }
   ],
   "source": [
    "metadata = pd.read_csv('data/Chest_xray_Corona_Metadata.csv').drop('Unnamed: 0', axis=1)\n",
    "metadata.head()"
   ]
  },
  {
   "cell_type": "code",
   "execution_count": 82,
   "metadata": {},
   "outputs": [
    {
     "data": {
      "text/plain": [
       "Pnemonia    4334\n",
       "Normal      1576\n",
       "Name: Label, dtype: int64"
      ]
     },
     "execution_count": 82,
     "metadata": {},
     "output_type": "execute_result"
    }
   ],
   "source": [
    "metadata['Label'].value_counts()"
   ]
  },
  {
   "cell_type": "code",
   "execution_count": 83,
   "metadata": {},
   "outputs": [],
   "source": [
    "image_root_path = 'data/'"
   ]
  },
  {
   "cell_type": "code",
   "execution_count": null,
   "metadata": {},
   "outputs": [],
   "source": []
  },
  {
   "cell_type": "code",
   "execution_count": 84,
   "metadata": {},
   "outputs": [],
   "source": [
    "batch_size = 50\n",
    "input_shape = (256, 256, 3)\n",
    "AUTOTUNE = tf.data.AUTOTUNE"
   ]
  },
  {
   "cell_type": "code",
   "execution_count": 85,
   "metadata": {},
   "outputs": [
    {
     "name": "stdout",
     "output_type": "stream",
     "text": [
      "Found 5286 files belonging to 2 classes.\n",
      "Using 4229 files for training.\n"
     ]
    }
   ],
   "source": [
    "train_data = image_dataset_from_directory(\n",
    "    'data/train/',\n",
    "    labels='inferred',\n",
    "    batch_size=batch_size,\n",
    "    image_size=input_shape[:2],\n",
    "    seed=1,\n",
    "    validation_split=0.2,\n",
    "    subset='training'\n",
    ")"
   ]
  },
  {
   "cell_type": "code",
   "execution_count": 86,
   "metadata": {},
   "outputs": [
    {
     "name": "stdout",
     "output_type": "stream",
     "text": [
      "Found 5286 files belonging to 2 classes.\n",
      "Using 1057 files for validation.\n"
     ]
    }
   ],
   "source": [
    "validation_data = image_dataset_from_directory(\n",
    "    'data/train/',\n",
    "    labels='inferred',\n",
    "    batch_size=batch_size,\n",
    "    image_size=input_shape[:2],\n",
    "    seed=1,\n",
    "    validation_split=0.2,\n",
    "    subset='validation'\n",
    ")"
   ]
  },
  {
   "cell_type": "code",
   "execution_count": 87,
   "metadata": {},
   "outputs": [
    {
     "name": "stdout",
     "output_type": "stream",
     "text": [
      "Found 624 files belonging to 2 classes.\n"
     ]
    }
   ],
   "source": [
    "test_data = image_dataset_from_directory(\n",
    "    'data/test/',\n",
    "    labels='inferred',\n",
    "    image_size=input_shape[:2]\n",
    ")"
   ]
  },
  {
   "cell_type": "code",
   "execution_count": 88,
   "metadata": {},
   "outputs": [],
   "source": [
    "train_data_pf = prepare_data(train_data, shuffle=True, augment=True)\n",
    "validation_data_pf = prepare_data(validation_data)\n",
    "test_data_pf = prepare_data(test_data)"
   ]
  },
  {
   "cell_type": "code",
   "execution_count": 158,
   "metadata": {},
   "outputs": [
    {
     "data": {
      "text/plain": [
       "(1576, 4334, array([1.01160091]))"
      ]
     },
     "execution_count": 158,
     "metadata": {},
     "output_type": "execute_result"
    }
   ],
   "source": [
    "neg, pos = np.bincount(metadata['Label'].map({'Normal': 0, 'Pnemonia': 1}))\n",
    "total = neg + pos\n",
    "initial_bias = np.log([pos/neg])\n",
    "neg, pos, initial_bias"
   ]
  },
  {
   "cell_type": "code",
   "execution_count": 159,
   "metadata": {},
   "outputs": [
    {
     "data": {
      "text/plain": [
       "0.7333333333333333"
      ]
     },
     "execution_count": 159,
     "metadata": {},
     "output_type": "execute_result"
    }
   ],
   "source": [
    "pos/total"
   ]
  },
  {
   "cell_type": "code",
   "execution_count": 165,
   "metadata": {},
   "outputs": [],
   "source": [
    "def create_model(output_bias=None):\n",
    "    if output_bias is not None:\n",
    "        output_bias = tf.keras.initializers.Constant(output_bias)\n",
    "    tf.random.set_seed(0)\n",
    "    model = Sequential([\n",
    "        Conv2D(32, 3),\n",
    "        MaxPooling2D(pool_size=(2, 2), strides=(2, 2)),\n",
    "        BatchNormalization(),\n",
    "        Conv2D(64, 5),\n",
    "        MaxPooling2D(pool_size=(2, 2), strides=(2, 2)),\n",
    "        BatchNormalization(),\n",
    "        Conv2D(128, 9),\n",
    "        BatchNormalization(),\n",
    "        GlobalAveragePooling2D(),\n",
    "        Dropout(0.5),\n",
    "        Dense(128, activation='relu'),\n",
    "        Dense(1, activation='sigmoid', bias_initializer=output_bias)\n",
    "    ])\n",
    "    \n",
    "    model.compile(\n",
    "        optimizer=tf.keras.optimizers.SGD(learning_rate=0.01),\n",
    "        loss=tf.keras.losses.BinaryCrossentropy(),\n",
    "        metrics=tf.keras.metrics.BinaryAccuracy()\n",
    "    )\n",
    "    \n",
    "    return model"
   ]
  },
  {
   "cell_type": "code",
   "execution_count": 180,
   "metadata": {},
   "outputs": [
    {
     "name": "stdout",
     "output_type": "stream",
     "text": [
      "85/85 [==============================] - 34s 211ms/step - loss: 31.5582 - binary_accuracy: 0.2549s - loss: 31.6837 - binary_accuracy\n"
     ]
    },
    {
     "data": {
      "text/plain": [
       "[31.55821418762207, 0.2549065947532654]"
      ]
     },
     "execution_count": 180,
     "metadata": {},
     "output_type": "execute_result"
    }
   ],
   "source": [
    "model = create_model()\n",
    "model.evaluate(train_data_pf)"
   ]
  },
  {
   "cell_type": "code",
   "execution_count": 167,
   "metadata": {},
   "outputs": [
    {
     "name": "stdout",
     "output_type": "stream",
     "text": [
      "85/85 [==============================] - 34s 213ms/step - loss: 30.5027 - binary_accuracy: 0.2549\n"
     ]
    },
    {
     "data": {
      "text/plain": [
       "[30.502704620361328, 0.2549065947532654]"
      ]
     },
     "execution_count": 167,
     "metadata": {},
     "output_type": "execute_result"
    }
   ],
   "source": [
    "# Is it better with bias?\n",
    "model = create_model(output_bias=initial_bias)\n",
    "model.evaluate(train_data_pf)"
   ]
  },
  {
   "cell_type": "code",
   "execution_count": 161,
   "metadata": {},
   "outputs": [],
   "source": [
    "# checkpoint the model weights to make comparison equal between the biased and unbiased models\n",
    "initial_weights = os.path.join(tempfile.mkdtemp(), 'initial_weights')\n",
    "model.save_weights(initial_weights)"
   ]
  },
  {
   "cell_type": "code",
   "execution_count": 162,
   "metadata": {},
   "outputs": [],
   "source": [
    "early_stopping = EarlyStopping(\n",
    "    monitor='val_loss',\n",
    "    patience=2,\n",
    "    restore_best_weights=True\n",
    ")"
   ]
  },
  {
   "cell_type": "code",
   "execution_count": 168,
   "metadata": {},
   "outputs": [
    {
     "name": "stdout",
     "output_type": "stream",
     "text": [
      "Epoch 1/10\n",
      "85/85 [==============================] - 54s 438ms/step - loss: 0.3593 - binary_accuracy: 0.8392 - val_loss: 0.5577 - val_binary_accuracy: 0.7739\n",
      "Epoch 2/10\n",
      "85/85 [==============================] - 51s 422ms/step - loss: 0.3307 - binary_accuracy: 0.8494 - val_loss: 4.2502 - val_binary_accuracy: 0.2498\n",
      "Epoch 3/10\n",
      "85/85 [==============================] - 49s 397ms/step - loss: 0.3225 - binary_accuracy: 0.8534 - val_loss: 0.9756 - val_binary_accuracy: 0.5478\n"
     ]
    }
   ],
   "source": [
    "# Train a model with output bias\n",
    "\n",
    "model = create_model(output_bias=initial_bias)\n",
    "model.load_weights(initial_weights)\n",
    "biased_history = model.fit(\n",
    "    train_data_pf,\n",
    "    batch_size=batch_size,\n",
    "    epochs=10,\n",
    "    callbacks=[early_stopping],\n",
    "    validation_data=validation_data_pf,\n",
    "    verbose=1\n",
    ")"
   ]
  },
  {
   "cell_type": "code",
   "execution_count": 171,
   "metadata": {},
   "outputs": [
    {
     "data": {
      "image/png": "[encoded data removed]",
      "text/plain": [
       "<Figure size 576x360 with 1 Axes>"
      ]
     },
     "metadata": {
      "needs_background": "light"
     },
     "output_type": "display_data"
    }
   ],
   "source": [
    "plt.figure(figsize=(8,5))\n",
    "plt.plot(unbiased_history.history['loss'])\n",
    "plt.plot(unbiased_history.history['val_loss'])\n",
    "plt.legend(['training loss', 'validation loss'])\n",
    "plt.xlabel('epoch')\n",
    "plt.ylabel('loss')\n",
    "plt.title('Training and validation loss')\n",
    "plt.show()"
   ]
  },
  {
   "cell_type": "code",
   "execution_count": 172,
   "metadata": {},
   "outputs": [
    {
     "name": "stdout",
     "output_type": "stream",
     "text": [
      "20/20 [==============================] - 2s 77ms/step - loss: 1.0991 - binary_accuracy: 0.6362\n"
     ]
    },
    {
     "data": {
      "text/plain": [
       "[1.099084734916687, 0.6362179517745972]"
      ]
     },
     "execution_count": 172,
     "metadata": {},
     "output_type": "execute_result"
    }
   ],
   "source": [
    "model.evaluate(test_data_pf)"
   ]
  },
  {
   "cell_type": "code",
   "execution_count": 173,
   "metadata": {},
   "outputs": [
    {
     "name": "stdout",
     "output_type": "stream",
     "text": [
      "Weight for class 0: 1.87\n",
      "Weight for class 1: 0.68\n"
     ]
    }
   ],
   "source": [
    "# calculate class weights\n",
    "weight_for_0 = (1 / neg) * (total / 2.0)\n",
    "weight_for_1 = (1 / pos) * (total / 2.0)\n",
    "\n",
    "class_weight = {0: weight_for_0, 1: weight_for_1}\n",
    "\n",
    "print('Weight for class 0: {:.2f}'.format(weight_for_0))\n",
    "print('Weight for class 1: {:.2f}'.format(weight_for_1))"
   ]
  },
  {
   "cell_type": "code",
   "execution_count": 175,
   "metadata": {},
   "outputs": [
    {
     "name": "stdout",
     "output_type": "stream",
     "text": [
      "WARNING:tensorflow:Unresolved object in checkpoint: (root).layer_with_weights-0.kernel\n",
      "WARNING:tensorflow:Unresolved object in checkpoint: (root).layer_with_weights-0.bias\n",
      "WARNING:tensorflow:Unresolved object in checkpoint: (root).layer_with_weights-1.axis\n",
      "WARNING:tensorflow:Unresolved object in checkpoint: (root).layer_with_weights-1.gamma\n",
      "WARNING:tensorflow:Unresolved object in checkpoint: (root).layer_with_weights-1.beta\n",
      "WARNING:tensorflow:Unresolved object in checkpoint: (root).layer_with_weights-1.moving_mean\n",
      "WARNING:tensorflow:Unresolved object in checkpoint: (root).layer_with_weights-1.moving_variance\n",
      "WARNING:tensorflow:Unresolved object in checkpoint: (root).layer_with_weights-2.kernel\n",
      "WARNING:tensorflow:Unresolved object in checkpoint: (root).layer_with_weights-2.bias\n",
      "WARNING:tensorflow:Unresolved object in checkpoint: (root).layer_with_weights-3.axis\n",
      "WARNING:tensorflow:Unresolved object in checkpoint: (root).layer_with_weights-3.gamma\n",
      "WARNING:tensorflow:Unresolved object in checkpoint: (root).layer_with_weights-3.beta\n",
      "WARNING:tensorflow:Unresolved object in checkpoint: (root).layer_with_weights-3.moving_mean\n",
      "WARNING:tensorflow:Unresolved object in checkpoint: (root).layer_with_weights-3.moving_variance\n",
      "WARNING:tensorflow:Unresolved object in checkpoint: (root).layer_with_weights-4.kernel\n",
      "WARNING:tensorflow:Unresolved object in checkpoint: (root).layer_with_weights-4.bias\n",
      "WARNING:tensorflow:Unresolved object in checkpoint: (root).layer_with_weights-5.axis\n",
      "WARNING:tensorflow:Unresolved object in checkpoint: (root).layer_with_weights-5.gamma\n",
      "WARNING:tensorflow:Unresolved object in checkpoint: (root).layer_with_weights-5.beta\n",
      "WARNING:tensorflow:Unresolved object in checkpoint: (root).layer_with_weights-5.moving_mean\n",
      "WARNING:tensorflow:Unresolved object in checkpoint: (root).layer_with_weights-5.moving_variance\n",
      "WARNING:tensorflow:Unresolved object in checkpoint: (root).layer_with_weights-6.kernel\n",
      "WARNING:tensorflow:Unresolved object in checkpoint: (root).layer_with_weights-6.bias\n",
      "WARNING:tensorflow:Unresolved object in checkpoint: (root).layer_with_weights-7.kernel\n",
      "WARNING:tensorflow:Unresolved object in checkpoint: (root).layer_with_weights-7.bias\n",
      "WARNING:tensorflow:A checkpoint was restored (e.g. tf.train.Checkpoint.restore or tf.keras.Model.load_weights) but not all checkpointed values were used. See above for specific issues. Use expect_partial() on the load status object, e.g. tf.train.Checkpoint.restore(...).expect_partial(), to silence these warnings, or use assert_consumed() to make the check explicit. See https://www.tensorflow.org/guide/checkpoint#loading_mechanics for details.\n",
      "WARNING:tensorflow:From c:\\users\\fx8350\\appdata\\local\\programs\\python\\python39\\lib\\site-packages\\tensorflow\\python\\ops\\array_ops.py:5043: calling gather (from tensorflow.python.ops.array_ops) with validate_indices is deprecated and will be removed in a future version.\n",
      "Instructions for updating:\n",
      "The `validate_indices` argument has no effect. Indices are always validated on CPU and never validated on GPU.\n",
      "Epoch 1/10\n",
      "85/85 [==============================] - 52s 411ms/step - loss: 0.4174 - binary_accuracy: 0.8342 - val_loss: 2.0025 - val_binary_accuracy: 0.3595\n",
      "Epoch 2/10\n",
      "85/85 [==============================] - 49s 391ms/step - loss: 0.3694 - binary_accuracy: 0.8510 - val_loss: 0.4650 - val_binary_accuracy: 0.8023\n",
      "Epoch 3/10\n",
      "85/85 [==============================] - 49s 401ms/step - loss: 0.3591 - binary_accuracy: 0.8520 - val_loss: 2.3853 - val_binary_accuracy: 0.3491\n",
      "Epoch 4/10\n",
      "85/85 [==============================] - 50s 403ms/step - loss: 0.3574 - binary_accuracy: 0.8579 - val_loss: 2.7455 - val_binary_accuracy: 0.3595\n"
     ]
    }
   ],
   "source": [
    "# Train a model with output bias and class weights\n",
    "\n",
    "model = create_model(output_bias=initial_bias)\n",
    "model.load_weights(initial_weights)\n",
    "biased_history = model.fit(\n",
    "    train_data_pf,\n",
    "    batch_size=batch_size,\n",
    "    epochs=10,\n",
    "    callbacks=[early_stopping],\n",
    "    validation_data=validation_data_pf,\n",
    "    verbose=1,\n",
    "    class_weight=class_weight\n",
    ")"
   ]
  },
  {
   "cell_type": "code",
   "execution_count": 176,
   "metadata": {},
   "outputs": [
    {
     "name": "stdout",
     "output_type": "stream",
     "text": [
      "20/20 [==============================] - 2s 80ms/step - loss: 0.5730 - binary_accuracy: 0.7564\n"
     ]
    },
    {
     "data": {
      "text/plain": [
       "[0.5729649662971497, 0.7564102411270142]"
      ]
     },
     "execution_count": 176,
     "metadata": {},
     "output_type": "execute_result"
    }
   ],
   "source": [
    "model.evaluate(test_data_pf)"
   ]
  },
  {
   "cell_type": "code",
   "execution_count": 178,
   "metadata": {},
   "outputs": [
    {
     "data": {
      "text/plain": [
       "array([[1.24294674e-02],\n",
       "       [8.45340252e-01],\n",
       "       [9.42889214e-01],\n",
       "       [3.38290751e-01],\n",
       "       [9.49496746e-01],\n",
       "       [8.28630507e-01],\n",
       "       [1.69277471e-02],\n",
       "       [9.94022667e-01],\n",
       "       [9.91531551e-01],\n",
       "       [4.46244851e-02],\n",
       "       [9.83881831e-01],\n",
       "       [6.52000844e-01],\n",
       "       [7.38728940e-02],\n",
       "       [9.03228879e-01],\n",
       "       [9.78162587e-01],\n",
       "       [9.85630989e-01],\n",
       "       [4.61799681e-01],\n",
       "       [9.83049810e-01],\n",
       "       [2.34468356e-01],\n",
       "       [9.51158464e-01],\n",
       "       [1.52398814e-02],\n",
       "       [1.72050640e-01],\n",
       "       [7.07292020e-01],\n",
       "       [1.93111468e-02],\n",
       "       [5.07841408e-01],\n",
       "       [5.17419875e-01],\n",
       "       [4.94170576e-01],\n",
       "       [8.64012182e-01],\n",
       "       [9.47129428e-01],\n",
       "       [6.33466244e-02],\n",
       "       [1.75001144e-01],\n",
       "       [2.19526961e-01],\n",
       "       [9.89277482e-01],\n",
       "       [9.74520385e-01],\n",
       "       [9.57609236e-01],\n",
       "       [1.09463595e-01],\n",
       "       [1.67715121e-02],\n",
       "       [6.68376312e-02],\n",
       "       [3.30850869e-01],\n",
       "       [5.93123317e-01],\n",
       "       [1.06521294e-01],\n",
       "       [4.67918478e-02],\n",
       "       [7.35567277e-03],\n",
       "       [9.92352188e-01],\n",
       "       [4.10140641e-02],\n",
       "       [8.45124424e-01],\n",
       "       [9.12456512e-01],\n",
       "       [9.40180898e-01],\n",
       "       [9.96908486e-01],\n",
       "       [9.45581257e-01],\n",
       "       [9.42569971e-01],\n",
       "       [3.32405195e-02],\n",
       "       [5.91635779e-02],\n",
       "       [1.43754352e-02],\n",
       "       [9.84792709e-01],\n",
       "       [9.79728997e-01],\n",
       "       [8.22820544e-01],\n",
       "       [8.95948589e-01],\n",
       "       [7.34983087e-02],\n",
       "       [7.71297753e-01],\n",
       "       [7.89487541e-01],\n",
       "       [5.61303675e-01],\n",
       "       [9.29961801e-01],\n",
       "       [4.83031660e-01],\n",
       "       [1.78594321e-01],\n",
       "       [7.92956427e-02],\n",
       "       [1.87540427e-01],\n",
       "       [5.77483736e-02],\n",
       "       [5.34250557e-01],\n",
       "       [8.31319749e-01],\n",
       "       [6.00690348e-03],\n",
       "       [6.15845323e-01],\n",
       "       [8.66780162e-01],\n",
       "       [9.97937679e-01],\n",
       "       [1.59255341e-02],\n",
       "       [3.51610174e-03],\n",
       "       [2.30861723e-01],\n",
       "       [6.37000620e-01],\n",
       "       [9.98914361e-01],\n",
       "       [2.54214674e-01],\n",
       "       [7.50450552e-01],\n",
       "       [8.89286757e-01],\n",
       "       [9.29202199e-01],\n",
       "       [2.08533987e-01],\n",
       "       [1.83103699e-02],\n",
       "       [9.21071172e-01],\n",
       "       [5.25859706e-02],\n",
       "       [4.50583369e-01],\n",
       "       [8.15502927e-03],\n",
       "       [9.60368335e-01],\n",
       "       [7.13118240e-02],\n",
       "       [9.54487741e-01],\n",
       "       [9.75528061e-01],\n",
       "       [8.66289079e-01],\n",
       "       [9.89030063e-01],\n",
       "       [6.29268736e-02],\n",
       "       [7.88695931e-01],\n",
       "       [5.98070741e-01],\n",
       "       [4.44827368e-03],\n",
       "       [9.74018514e-01],\n",
       "       [8.07518959e-01],\n",
       "       [6.71588838e-01],\n",
       "       [8.07207286e-01],\n",
       "       [6.32948354e-02],\n",
       "       [9.77208257e-01],\n",
       "       [8.94442141e-01],\n",
       "       [7.94394612e-01],\n",
       "       [2.28888076e-02],\n",
       "       [5.42791784e-01],\n",
       "       [8.24934006e-01],\n",
       "       [7.98753202e-02],\n",
       "       [5.85317850e-01],\n",
       "       [6.55647740e-02],\n",
       "       [9.24395204e-01],\n",
       "       [9.36430931e-01],\n",
       "       [9.98431385e-01],\n",
       "       [1.37692720e-01],\n",
       "       [9.55575883e-01],\n",
       "       [5.03559351e-01],\n",
       "       [8.09508979e-01],\n",
       "       [9.92261589e-01],\n",
       "       [2.88064163e-02],\n",
       "       [9.84046876e-01],\n",
       "       [1.96584702e-01],\n",
       "       [1.41836315e-01],\n",
       "       [1.66734427e-01],\n",
       "       [8.35012078e-01],\n",
       "       [2.21346557e-01],\n",
       "       [1.25521272e-01],\n",
       "       [1.08832017e-01],\n",
       "       [1.05333053e-01],\n",
       "       [7.51653016e-01],\n",
       "       [9.24228251e-01],\n",
       "       [9.32840347e-01],\n",
       "       [8.31392348e-01],\n",
       "       [7.03592360e-01],\n",
       "       [9.88054454e-01],\n",
       "       [9.25297558e-01],\n",
       "       [8.61892104e-01],\n",
       "       [8.80496502e-01],\n",
       "       [7.19685713e-03],\n",
       "       [1.16536774e-01],\n",
       "       [9.61112499e-01],\n",
       "       [9.77838874e-01],\n",
       "       [3.66185121e-02],\n",
       "       [8.15274477e-01],\n",
       "       [9.63092864e-01],\n",
       "       [8.49837363e-01],\n",
       "       [9.47407901e-01],\n",
       "       [4.13576402e-02],\n",
       "       [9.89528477e-01],\n",
       "       [7.17731297e-01],\n",
       "       [2.20241901e-02],\n",
       "       [4.01400298e-01],\n",
       "       [5.15378952e-01],\n",
       "       [8.53998661e-02],\n",
       "       [9.92115200e-01],\n",
       "       [9.66499090e-01],\n",
       "       [9.84936774e-01],\n",
       "       [1.81688331e-02],\n",
       "       [9.89563406e-01],\n",
       "       [2.62747824e-01],\n",
       "       [7.36600101e-01],\n",
       "       [6.82898462e-01],\n",
       "       [2.89438032e-02],\n",
       "       [4.87226760e-03],\n",
       "       [3.13402116e-01],\n",
       "       [4.82539356e-01],\n",
       "       [9.85583067e-01],\n",
       "       [8.19672167e-01],\n",
       "       [9.20797229e-01],\n",
       "       [2.13935375e-01],\n",
       "       [2.00594872e-01],\n",
       "       [9.87470567e-01],\n",
       "       [9.14400618e-04],\n",
       "       [4.03972007e-02],\n",
       "       [1.22174919e-01],\n",
       "       [5.44844806e-01],\n",
       "       [8.46563935e-01],\n",
       "       [5.51391132e-02],\n",
       "       [5.03147364e-01],\n",
       "       [1.66743591e-01],\n",
       "       [6.88700452e-02],\n",
       "       [9.80706930e-01],\n",
       "       [9.97601807e-01],\n",
       "       [9.66963649e-01],\n",
       "       [3.69703889e-01],\n",
       "       [1.48379311e-01],\n",
       "       [7.19818830e-01],\n",
       "       [1.57356984e-03],\n",
       "       [9.90869939e-01],\n",
       "       [3.88343632e-01],\n",
       "       [8.53446484e-01],\n",
       "       [9.42007065e-01],\n",
       "       [9.76417303e-01],\n",
       "       [9.87254858e-01],\n",
       "       [8.56475651e-01],\n",
       "       [5.74540645e-02],\n",
       "       [9.84077573e-01],\n",
       "       [9.13419068e-01],\n",
       "       [4.32105958e-01],\n",
       "       [9.14128602e-01],\n",
       "       [7.20139295e-02],\n",
       "       [9.99166727e-01],\n",
       "       [9.31773305e-01],\n",
       "       [9.98022079e-01],\n",
       "       [1.15793534e-01],\n",
       "       [9.86278594e-01],\n",
       "       [4.46666852e-02],\n",
       "       [9.71837163e-01],\n",
       "       [9.93305027e-01],\n",
       "       [9.12830591e-01],\n",
       "       [2.71065950e-01],\n",
       "       [2.31408343e-01],\n",
       "       [9.96872485e-01],\n",
       "       [1.27978414e-01],\n",
       "       [8.73752832e-01],\n",
       "       [1.53771132e-01],\n",
       "       [1.93150327e-01],\n",
       "       [6.01630211e-01],\n",
       "       [9.81401145e-01],\n",
       "       [1.32014612e-02],\n",
       "       [8.72623503e-01],\n",
       "       [6.97980106e-01],\n",
       "       [9.88025486e-01],\n",
       "       [2.66184270e-01],\n",
       "       [8.20334792e-01],\n",
       "       [9.65490937e-01],\n",
       "       [2.69698296e-02],\n",
       "       [9.31475163e-01],\n",
       "       [3.46388444e-02],\n",
       "       [6.34552836e-01],\n",
       "       [9.39754128e-01],\n",
       "       [4.54423428e-02],\n",
       "       [9.73475397e-01],\n",
       "       [3.51041518e-02],\n",
       "       [9.57144976e-01],\n",
       "       [3.52600426e-03],\n",
       "       [5.45094371e-01],\n",
       "       [3.32279578e-02],\n",
       "       [4.20451872e-02],\n",
       "       [2.24199668e-01],\n",
       "       [4.83031660e-01],\n",
       "       [7.80456280e-03],\n",
       "       [8.97260785e-01],\n",
       "       [5.26467443e-01],\n",
       "       [1.51692599e-01],\n",
       "       [9.98770654e-01],\n",
       "       [4.91900176e-01],\n",
       "       [9.91891384e-01],\n",
       "       [8.42905760e-01],\n",
       "       [4.40179706e-02],\n",
       "       [2.10940003e-01],\n",
       "       [3.29983473e-01],\n",
       "       [9.24072862e-01],\n",
       "       [5.28688312e-01],\n",
       "       [9.86053407e-01],\n",
       "       [8.54829252e-01],\n",
       "       [4.05805781e-02],\n",
       "       [8.88416231e-01],\n",
       "       [3.74993920e-01],\n",
       "       [3.67296785e-01],\n",
       "       [8.78897786e-01],\n",
       "       [9.97028887e-01],\n",
       "       [3.89661074e-01],\n",
       "       [9.48134780e-01],\n",
       "       [4.82935039e-03],\n",
       "       [8.90055001e-01],\n",
       "       [2.33033169e-02],\n",
       "       [9.82734859e-01],\n",
       "       [6.84454381e-01],\n",
       "       [1.38669178e-01],\n",
       "       [9.65799630e-01],\n",
       "       [4.87870499e-02],\n",
       "       [7.10441470e-02],\n",
       "       [9.59384978e-01],\n",
       "       [6.69708401e-02],\n",
       "       [6.15970083e-02],\n",
       "       [9.48300481e-01],\n",
       "       [3.32202643e-01],\n",
       "       [2.65676677e-02],\n",
       "       [9.57927346e-01],\n",
       "       [9.36368823e-01],\n",
       "       [7.97972202e-01],\n",
       "       [9.60828125e-01],\n",
       "       [3.90468799e-02],\n",
       "       [9.19038177e-01],\n",
       "       [3.30321379e-02],\n",
       "       [9.79551673e-01],\n",
       "       [9.79723454e-01],\n",
       "       [2.60549873e-01],\n",
       "       [9.73907590e-01],\n",
       "       [1.54041886e-01],\n",
       "       [9.76327285e-02],\n",
       "       [2.96331365e-02],\n",
       "       [2.10518435e-01],\n",
       "       [3.71632308e-01],\n",
       "       [7.26483643e-01],\n",
       "       [1.62370384e-01],\n",
       "       [2.36435226e-04],\n",
       "       [3.04643828e-02],\n",
       "       [8.53789032e-01],\n",
       "       [9.92698848e-01],\n",
       "       [8.65959525e-01],\n",
       "       [1.13055684e-01],\n",
       "       [9.98780549e-01],\n",
       "       [5.49012423e-01],\n",
       "       [7.14949846e-01],\n",
       "       [9.16122258e-01],\n",
       "       [5.73346376e-01],\n",
       "       [6.11185916e-02],\n",
       "       [3.16097915e-01],\n",
       "       [8.83436084e-01],\n",
       "       [1.44445345e-01],\n",
       "       [2.34468356e-01],\n",
       "       [4.62466419e-01],\n",
       "       [9.94958103e-01],\n",
       "       [3.05421025e-01],\n",
       "       [3.44417572e-01],\n",
       "       [5.22381030e-02],\n",
       "       [8.67480695e-01],\n",
       "       [9.39754128e-01],\n",
       "       [2.40279198e-01],\n",
       "       [7.50450552e-01],\n",
       "       [2.61637941e-02],\n",
       "       [5.88077188e-01],\n",
       "       [2.22148038e-02],\n",
       "       [7.85197377e-01],\n",
       "       [9.76885915e-01],\n",
       "       [9.21640217e-01],\n",
       "       [7.43872643e-01],\n",
       "       [7.98716843e-01],\n",
       "       [1.08637325e-02],\n",
       "       [5.75604916e-01],\n",
       "       [9.85349238e-01],\n",
       "       [4.44708429e-02],\n",
       "       [2.83782959e-01],\n",
       "       [5.98544776e-02],\n",
       "       [5.29166758e-01],\n",
       "       [3.74993533e-01],\n",
       "       [6.34033382e-01],\n",
       "       [9.68471766e-01],\n",
       "       [6.62596583e-01],\n",
       "       [5.39962173e-01],\n",
       "       [8.12292993e-01],\n",
       "       [9.87114668e-01],\n",
       "       [9.17230725e-01],\n",
       "       [2.16975525e-01],\n",
       "       [5.70105672e-01],\n",
       "       [6.47441864e-01],\n",
       "       [8.16479087e-01],\n",
       "       [2.40832329e-01],\n",
       "       [8.58124733e-01],\n",
       "       [8.67937565e-01],\n",
       "       [8.69591653e-01],\n",
       "       [8.53950262e-01],\n",
       "       [9.94222939e-01],\n",
       "       [5.97287595e-01],\n",
       "       [1.04044052e-02],\n",
       "       [3.42877582e-02],\n",
       "       [9.73309278e-01],\n",
       "       [8.52379024e-01],\n",
       "       [9.70500231e-01],\n",
       "       [9.84383285e-01],\n",
       "       [9.92489100e-01],\n",
       "       [9.93831277e-01],\n",
       "       [4.54916246e-02],\n",
       "       [1.67340502e-01],\n",
       "       [9.94705617e-01],\n",
       "       [8.78795624e-01],\n",
       "       [1.28344938e-01],\n",
       "       [5.31752884e-01],\n",
       "       [3.75209451e-01],\n",
       "       [6.76196158e-01],\n",
       "       [3.13365757e-01],\n",
       "       [7.96623349e-01],\n",
       "       [7.57306516e-01],\n",
       "       [9.48863268e-01],\n",
       "       [4.44155365e-01],\n",
       "       [8.96352947e-01],\n",
       "       [4.36128676e-01],\n",
       "       [9.64972019e-01],\n",
       "       [3.75086874e-01],\n",
       "       [9.70190108e-01],\n",
       "       [7.99473464e-01],\n",
       "       [2.03475375e-02],\n",
       "       [3.86559330e-02],\n",
       "       [2.53115475e-01],\n",
       "       [3.32344063e-02],\n",
       "       [9.94066477e-01],\n",
       "       [8.83166254e-01],\n",
       "       [9.22509849e-01],\n",
       "       [6.39286280e-01],\n",
       "       [9.76105392e-01],\n",
       "       [6.27266392e-02],\n",
       "       [9.40953732e-01],\n",
       "       [9.55152750e-01],\n",
       "       [9.40441415e-02],\n",
       "       [1.78340822e-02],\n",
       "       [9.68762577e-01],\n",
       "       [1.17111593e-01],\n",
       "       [9.66151237e-01],\n",
       "       [5.55468984e-02],\n",
       "       [2.56532222e-01],\n",
       "       [1.90413311e-01],\n",
       "       [9.35748875e-01],\n",
       "       [9.39742088e-01],\n",
       "       [7.26813972e-02],\n",
       "       [5.90325773e-01],\n",
       "       [7.97778070e-02],\n",
       "       [9.67606664e-01],\n",
       "       [1.06541306e-01],\n",
       "       [8.97673488e-01],\n",
       "       [9.96423900e-01],\n",
       "       [8.20516199e-02],\n",
       "       [2.88070291e-02],\n",
       "       [9.96927440e-01],\n",
       "       [9.72784877e-01],\n",
       "       [1.03246674e-01],\n",
       "       [9.79472935e-01],\n",
       "       [4.08112347e-01],\n",
       "       [8.55596423e-01],\n",
       "       [1.21542905e-02],\n",
       "       [8.84184062e-01],\n",
       "       [4.36179515e-04],\n",
       "       [2.34080069e-02],\n",
       "       [8.38665724e-01],\n",
       "       [6.05127811e-01],\n",
       "       [9.57814157e-01],\n",
       "       [8.97948667e-02],\n",
       "       [8.75203192e-01],\n",
       "       [1.73984021e-02],\n",
       "       [9.99211311e-01],\n",
       "       [7.92209983e-01],\n",
       "       [9.33769405e-01],\n",
       "       [1.55233353e-01],\n",
       "       [6.17460191e-01],\n",
       "       [8.72848451e-01],\n",
       "       [8.98430198e-02],\n",
       "       [1.23658560e-01],\n",
       "       [8.38280976e-01],\n",
       "       [5.24014354e-01],\n",
       "       [8.15841317e-01],\n",
       "       [6.92365468e-01],\n",
       "       [2.15861984e-02],\n",
       "       [1.45590961e-01],\n",
       "       [7.92236924e-01],\n",
       "       [1.07771195e-01],\n",
       "       [9.97924209e-01],\n",
       "       [6.12863107e-03],\n",
       "       [9.35203731e-01],\n",
       "       [2.01735005e-01],\n",
       "       [8.99173617e-01],\n",
       "       [6.47917762e-02],\n",
       "       [8.65469337e-01],\n",
       "       [7.40042686e-01],\n",
       "       [8.99017096e-01],\n",
       "       [5.72784543e-01],\n",
       "       [2.61607647e-01],\n",
       "       [8.79146934e-01],\n",
       "       [7.12351620e-01],\n",
       "       [7.62584060e-02],\n",
       "       [6.78388327e-02],\n",
       "       [2.02071249e-01],\n",
       "       [9.05807793e-01],\n",
       "       [5.63151002e-01],\n",
       "       [8.37509036e-01],\n",
       "       [4.01603997e-01],\n",
       "       [6.33318126e-01],\n",
       "       [9.52189028e-01],\n",
       "       [9.39614654e-01],\n",
       "       [6.89031541e-01],\n",
       "       [3.07445433e-02],\n",
       "       [2.62867957e-01],\n",
       "       [7.30228603e-01],\n",
       "       [6.98987424e-01],\n",
       "       [2.14698046e-01],\n",
       "       [6.67139769e-01],\n",
       "       [3.28956485e-01],\n",
       "       [9.89594102e-01],\n",
       "       [9.85044003e-01],\n",
       "       [9.69349384e-01],\n",
       "       [8.51407468e-01],\n",
       "       [9.90746737e-01],\n",
       "       [9.01291430e-01],\n",
       "       [9.95229483e-01],\n",
       "       [9.83097613e-01],\n",
       "       [7.86812365e-01],\n",
       "       [1.21652059e-01],\n",
       "       [8.66792560e-01],\n",
       "       [9.91648510e-02],\n",
       "       [3.49849105e-01],\n",
       "       [9.41643894e-01],\n",
       "       [9.96051371e-01],\n",
       "       [3.82252112e-02],\n",
       "       [5.01429103e-02],\n",
       "       [3.87055963e-01],\n",
       "       [3.90152559e-02],\n",
       "       [9.88405228e-01],\n",
       "       [9.76686358e-01],\n",
       "       [1.23371691e-01],\n",
       "       [2.37583951e-03],\n",
       "       [7.33775735e-01],\n",
       "       [1.35607883e-01],\n",
       "       [8.10304761e-01],\n",
       "       [8.45143721e-02],\n",
       "       [9.98698473e-01],\n",
       "       [1.73003778e-01],\n",
       "       [9.95010696e-03],\n",
       "       [8.21819544e-01],\n",
       "       [1.12490654e-01],\n",
       "       [1.41402587e-01],\n",
       "       [3.28369975e-01],\n",
       "       [9.24996138e-01],\n",
       "       [2.02415571e-01],\n",
       "       [5.56476414e-01],\n",
       "       [7.77117193e-01],\n",
       "       [8.14634562e-01],\n",
       "       [2.80729800e-01],\n",
       "       [3.05088103e-01],\n",
       "       [9.83098805e-01],\n",
       "       [7.06176698e-01],\n",
       "       [9.66586411e-01],\n",
       "       [9.99177873e-01],\n",
       "       [6.93665445e-02],\n",
       "       [3.24868858e-01],\n",
       "       [9.80020046e-01],\n",
       "       [8.10939610e-01],\n",
       "       [3.98521543e-01],\n",
       "       [1.33247912e-01],\n",
       "       [8.51260602e-01],\n",
       "       [4.36163276e-01],\n",
       "       [7.93191969e-01],\n",
       "       [7.59026825e-01],\n",
       "       [9.98626709e-01],\n",
       "       [2.46047657e-02],\n",
       "       [9.86891210e-01],\n",
       "       [3.79641950e-01],\n",
       "       [2.56852023e-02],\n",
       "       [3.55773494e-02],\n",
       "       [9.12912130e-01],\n",
       "       [9.72358763e-01],\n",
       "       [6.03541195e-01],\n",
       "       [9.02919590e-01],\n",
       "       [7.64432073e-01],\n",
       "       [8.83181393e-03],\n",
       "       [8.23884487e-01],\n",
       "       [4.23939433e-03],\n",
       "       [9.35547471e-01],\n",
       "       [8.31837300e-04],\n",
       "       [1.28080651e-01],\n",
       "       [4.05559450e-01],\n",
       "       [1.52449206e-01],\n",
       "       [2.08736554e-01],\n",
       "       [3.19673978e-02],\n",
       "       [9.99305367e-01],\n",
       "       [9.13354158e-01],\n",
       "       [9.18362439e-01],\n",
       "       [4.32759166e-01],\n",
       "       [1.75814126e-02],\n",
       "       [9.21713650e-01],\n",
       "       [9.73524690e-01],\n",
       "       [3.14548701e-01],\n",
       "       [2.21389476e-02],\n",
       "       [9.86744404e-01],\n",
       "       [9.38341498e-01],\n",
       "       [2.05529049e-01],\n",
       "       [2.24950835e-02],\n",
       "       [9.39638853e-01],\n",
       "       [1.12455957e-01],\n",
       "       [2.12449897e-02],\n",
       "       [1.00187570e-01],\n",
       "       [8.75902355e-01],\n",
       "       [1.92901529e-02],\n",
       "       [9.91071761e-01],\n",
       "       [9.92080986e-01],\n",
       "       [6.72742665e-01],\n",
       "       [1.59898192e-01],\n",
       "       [9.81356502e-01],\n",
       "       [1.06852621e-01],\n",
       "       [9.46361184e-01],\n",
       "       [2.03947164e-02],\n",
       "       [9.50460851e-01],\n",
       "       [9.55722556e-02],\n",
       "       [6.56761006e-02],\n",
       "       [4.81400609e-01],\n",
       "       [5.91584861e-01],\n",
       "       [9.72276568e-01],\n",
       "       [9.77795482e-01],\n",
       "       [1.31425662e-02],\n",
       "       [1.38988882e-01],\n",
       "       [9.90187168e-01],\n",
       "       [1.49549227e-02],\n",
       "       [5.91584861e-01],\n",
       "       [1.42932370e-01],\n",
       "       [5.35254598e-01],\n",
       "       [9.92279887e-01],\n",
       "       [4.75811273e-01],\n",
       "       [2.36093774e-01],\n",
       "       [5.26126288e-02],\n",
       "       [9.76560488e-02],\n",
       "       [7.46096134e-01],\n",
       "       [9.66425955e-01],\n",
       "       [3.29904526e-01],\n",
       "       [9.02544439e-01],\n",
       "       [9.84992862e-01],\n",
       "       [3.13392073e-01],\n",
       "       [8.64633024e-01],\n",
       "       [8.00027251e-01],\n",
       "       [1.19215026e-01],\n",
       "       [6.38177931e-01],\n",
       "       [9.82488751e-01],\n",
       "       [9.89528477e-01],\n",
       "       [8.94049406e-01],\n",
       "       [1.15592340e-02],\n",
       "       [9.29240584e-01],\n",
       "       [9.92492616e-01],\n",
       "       [7.04981267e-01],\n",
       "       [5.09342551e-01],\n",
       "       [4.78335517e-03],\n",
       "       [9.98589814e-01],\n",
       "       [6.29432797e-01],\n",
       "       [8.94362032e-01],\n",
       "       [7.80626476e-01]], dtype=float32)"
      ]
     },
     "execution_count": 178,
     "metadata": {},
     "output_type": "execute_result"
    }
   ],
   "source": [
    "y_proba = model.predict(test_data_pf)\n",
    "y_proba"
   ]
  },
  {
   "cell_type": "code",
   "execution_count": 179,
   "metadata": {},
   "outputs": [
    {
     "name": "stdout",
     "output_type": "stream",
     "text": [
      "              precision    recall  f1-score   support\n",
      "\n",
      "         0.0       0.39      0.45      0.42       234\n",
      "         1.0       0.64      0.58      0.61       390\n",
      "\n",
      "    accuracy                           0.53       624\n",
      "   macro avg       0.51      0.52      0.51       624\n",
      "weighted avg       0.55      0.53      0.54       624\n",
      "\n"
     ]
    }
   ],
   "source": [
    "y_pred = np.where(y_proba >= 0.5, 1, 0)\n",
    "print(classification_report(y_test, y_pred))"
   ]
  },
  {
   "cell_type": "code",
   "execution_count": 18,
   "metadata": {},
   "outputs": [],
   "source": [
    "from tensorflow.keras.utils import plot_model"
   ]
  },
  {
   "cell_type": "code",
   "execution_count": 19,
   "metadata": {},
   "outputs": [
    {
     "name": "stdout",
     "output_type": "stream",
     "text": [
      "('You must install pydot (`pip install pydot`) and install graphviz (see instructions at https://graphviz.gitlab.io/download/) ', 'for plot_model/model_to_dot to work.')\n"
     ]
    }
   ],
   "source": [
    "plot_model(model)"
   ]
  },
  {
   "cell_type": "code",
   "execution_count": null,
   "metadata": {},
   "outputs": [],
   "source": []
  },
  {
   "cell_type": "code",
   "execution_count": null,
   "metadata": {},
   "outputs": [],
   "source": []
  },
  {
   "cell_type": "code",
   "execution_count": null,
   "metadata": {},
   "outputs": [],
   "source": []
  }
 ],
 "metadata": {
  "kernelspec": {
   "display_name": "Python 3",
   "language": "python",
   "name": "python3"
  },
  "language_info": {
   "codemirror_mode": {
    "name": "ipython",
    "version": 3
   },
   "file_extension": ".py",
   "mimetype": "text/x-python",
   "name": "python",
   "nbconvert_exporter": "python",
   "pygments_lexer": "ipython3",
   "version": "3.9.4"
  }
 },
 "nbformat": 4,
 "nbformat_minor": 2
}
